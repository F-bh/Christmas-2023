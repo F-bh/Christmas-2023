{
 "cells": [
  {
   "cell_type": "code",
   "execution_count": 44,
   "metadata": {
    "collapsed": true,
    "ExecuteTime": {
     "end_time": "2023-12-06T08:15:40.180119049Z",
     "start_time": "2023-12-06T08:15:35.433182339Z"
    }
   },
   "outputs": [
    {
     "data": {
      "text/plain": "[Time:        38     94     79     70, Distance:   241   1549   1074   1091]"
     },
     "execution_count": 44,
     "metadata": {},
     "output_type": "execute_result"
    }
   ],
   "source": [
    "%use default\n",
    " \n",
    "val input = File(\"input6\").readLines()\n",
    "input"
   ]
  },
  {
   "cell_type": "code",
   "execution_count": 45,
   "outputs": [
    {
     "data": {
      "text/plain": "[Race(maxDuration=38, record=241), Race(maxDuration=94, record=1549), Race(maxDuration=79, record=1074), Race(maxDuration=70, record=1091)]"
     },
     "execution_count": 45,
     "metadata": {},
     "output_type": "execute_result"
    }
   ],
   "source": [
    "data class Race(val maxDuration: Int, val record: Int)\n",
    "\n",
    "val durations = input[0]\n",
    "    .substringAfter(\": \")\n",
    "    .split(\" \")\n",
    "    .filter { it.isNotBlank() }\n",
    "    .map { it.toInt() }\n",
    "    \n",
    "val records = input[1]\n",
    "    .substringAfter(\": \")\n",
    "    .split(\" \")\n",
    "    .filter { it.isNotBlank() }\n",
    "    .map { it.toInt() }\n",
    "    \n",
    "val races = durations\n",
    "    .mapIndexed() { index, it -> Race(it, records[index])}\n",
    "\n",
    "races"
   ],
   "metadata": {
    "collapsed": false,
    "ExecuteTime": {
     "end_time": "2023-12-06T08:15:40.272900509Z",
     "start_time": "2023-12-06T08:15:40.179825398Z"
    }
   }
  },
  {
   "cell_type": "code",
   "execution_count": 46,
   "outputs": [
    {
     "data": {
      "text/plain": "[[261, 280, 297, 312, 325, 336, 345, 352, 357, 360, 361, 360, 357, 352, 345, 336, 325, 312, 297, 280, 261], [1584, 1633, 1680, 1725, 1768, 1809, 1848, 1885, 1920, 1953, 1984, 2013, 2040, 2065, 2088, 2109, 2128, 2145, 2160, 2173, 2184, 2193, 2200, 2205, 2208, 2209, 2208, 2205, 2200, 2193, 2184, 2173, 2160, 2145, 2128, 2109, 2088, 2065, 2040, 2013, 1984, 1953, 1920, 1885, 1848, 1809, 1768, 1725, 1680, 1633, 1584], [1098, 1140, 1180, 1218, 1254, 1288, 1320, 1350, 1378, 1404, 1428, 1450, 1470, 1488, 1504, 1518, 1530, 1540, 1548, 1554, 1558, 1560, 1560, 1558, 1554, 1548, 1540, 1530, 1518, 1504, 1488, 1470, 1450, 1428, 1404, 1378, 1350, 1320, 1288, 1254, 1218, 1180, 1140, 1098], [1104, 1125, 1144, 1161, 1176, 1189, 1200, 1209, 1216, 1221, 1224, 1225, 1224, 1221, 1216, 1209, 1200, 1189, 1176, 1161, 1144, 1125, 1104]]"
     },
     "execution_count": 46,
     "metadata": {},
     "output_type": "execute_result"
    }
   ],
   "source": [
    "val solutions = races.map<Race, List<Int>> { it ->\n",
    "    val solutions = mutableListOf<Int>()\n",
    "    for  (x in 1 ..< it.maxDuration){\n",
    "        if (x * (it.maxDuration - x) > it.record) {\n",
    "            solutions.add(x * (it.maxDuration - x))\n",
    "        }\n",
    "    }\n",
    "    solutions\n",
    "}\n",
    "solutions"
   ],
   "metadata": {
    "collapsed": false,
    "ExecuteTime": {
     "end_time": "2023-12-06T08:15:40.324866260Z",
     "start_time": "2023-12-06T08:15:40.272768398Z"
    }
   }
  },
  {
   "cell_type": "code",
   "execution_count": 47,
   "outputs": [
    {
     "name": "stdout",
     "output_type": "stream",
     "text": [
      "Problem 1 Solution:\n"
     ]
    },
    {
     "data": {
      "text/plain": "1083852"
     },
     "execution_count": 47,
     "metadata": {},
     "output_type": "execute_result"
    }
   ],
   "source": [
    "println(\"Problem 1 Solution:\")\n",
    "solutions.map { it.size }.fold(0, { acc, it -> when (acc) {\n",
    "    0 -> it\n",
    "    else -> acc*it\n",
    "}})\n"
   ],
   "metadata": {
    "collapsed": false,
    "ExecuteTime": {
     "end_time": "2023-12-06T08:15:40.382690414Z",
     "start_time": "2023-12-06T08:15:40.321303387Z"
    }
   }
  },
  {
   "cell_type": "code",
   "execution_count": 48,
   "outputs": [
    {
     "name": "stdout",
     "output_type": "stream",
     "text": [
      "38947970"
     ]
    },
    {
     "data": {
      "text/plain": "241154910741091"
     },
     "execution_count": 48,
     "metadata": {},
     "output_type": "execute_result"
    }
   ],
   "source": [
    "val duration = input[0]\n",
    "    .substringAfter(\": \")\n",
    "    .split(\" \")\n",
    "    .filter { it.isNotBlank() }\n",
    "    .joinToString(\"\")\n",
    "    .toLong()\n",
    "\n",
    "val record = input[1]\n",
    "    .substringAfter(\": \")\n",
    "    .split(\" \")\n",
    "    .filter { it.isNotBlank() }\n",
    "    .joinToString(\"\")\n",
    "    .toLong()\n",
    "\n",
    "print(duration)\n",
    "record"
   ],
   "metadata": {
    "collapsed": false,
    "ExecuteTime": {
     "end_time": "2023-12-06T08:15:40.425787782Z",
     "start_time": "2023-12-06T08:15:40.364339453Z"
    }
   }
  },
  {
   "cell_type": "code",
   "execution_count": 49,
   "outputs": [
    {
     "name": "stdout",
     "output_type": "stream",
     "text": [
      "7723191"
     ]
    },
    {
     "data": {
      "text/plain": "31224779"
     },
     "execution_count": 49,
     "metadata": {},
     "output_type": "execute_result"
    }
   ],
   "source": [
    "val lowerBound = (1 ..< duration).first { it -> it * (duration - it) > record }\n",
    "val upperBound = (1 ..< duration).last { it -> it * (duration - it) > record }\n",
    "print(lowerBound)\n",
    "upperBound\n"
   ],
   "metadata": {
    "collapsed": false,
    "ExecuteTime": {
     "end_time": "2023-12-06T08:15:40.600209688Z",
     "start_time": "2023-12-06T08:15:40.425402240Z"
    }
   }
  },
  {
   "cell_type": "code",
   "execution_count": 50,
   "outputs": [
    {
     "data": {
      "text/plain": "23501589"
     },
     "execution_count": 50,
     "metadata": {},
     "output_type": "execute_result"
    }
   ],
   "source": [
    "upperBound - lowerBound + 1"
   ],
   "metadata": {
    "collapsed": false,
    "ExecuteTime": {
     "end_time": "2023-12-06T08:15:40.644301299Z",
     "start_time": "2023-12-06T08:15:40.599756166Z"
    }
   }
  },
  {
   "cell_type": "code",
   "execution_count": 51,
   "outputs": [],
   "source": [],
   "metadata": {
    "collapsed": false,
    "ExecuteTime": {
     "end_time": "2023-12-06T08:15:40.644624630Z",
     "start_time": "2023-12-06T08:15:40.622558925Z"
    }
   }
  }
 ],
 "metadata": {
  "kernelspec": {
   "display_name": "Kotlin",
   "language": "kotlin",
   "name": "kotlin"
  },
  "language_info": {
   "name": "kotlin",
   "version": "1.9.0",
   "mimetype": "text/x-kotlin",
   "file_extension": ".kt",
   "pygments_lexer": "kotlin",
   "codemirror_mode": "text/x-kotlin",
   "nbconvert_exporter": ""
  }
 },
 "nbformat": 4,
 "nbformat_minor": 0
}
