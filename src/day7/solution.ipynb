{
 "cells": [
  {
   "cell_type": "code",
   "execution_count": 360,
   "metadata": {
    "collapsed": true,
    "ExecuteTime": {
     "end_time": "2023-12-07T22:29:27.869228187Z",
     "start_time": "2023-12-07T22:29:14.286018840Z"
    }
   },
   "outputs": [],
   "source": [
    "%use default"
   ]
  },
  {
   "cell_type": "code",
   "execution_count": 388,
   "outputs": [],
   "source": [
    "val input = File(\"input\").readLines()"
   ],
   "metadata": {
    "collapsed": false,
    "ExecuteTime": {
     "end_time": "2023-12-07T22:37:02.019118773Z",
     "start_time": "2023-12-07T22:37:01.978937907Z"
    }
   }
  },
  {
   "cell_type": "code",
   "execution_count": 389,
   "outputs": [],
   "source": [
    "enum class Card() {\n",
    "    Joker,\n",
    "    Two,\n",
    "    Three,\n",
    "    Four,\n",
    "    Five,\n",
    "    Six,\n",
    "    Seven,\n",
    "    Eight,\n",
    "    Nine,\n",
    "    Ten,\n",
    "    Queen,\n",
    "    King,\n",
    "    Ace;\n",
    "\n",
    "    companion object {\n",
    "        operator fun get(face: Char): Card {\n",
    "            return when (face) {\n",
    "                'A' -> Card.Ace\n",
    "                'K' -> Card.King\n",
    "                'Q' -> Card.Queen\n",
    "                'J' -> Card.Joker\n",
    "                'T' -> Card.Ten\n",
    "                '2' -> Card.Two\n",
    "                '3' -> Card.Three\n",
    "                '4' -> Card.Four\n",
    "                '5' -> Card.Five\n",
    "                '6' -> Card.Six\n",
    "                '7' -> Card.Seven\n",
    "                '8' -> Card.Eight\n",
    "                '9' -> Card.Nine\n",
    "                else -> throw Exception(\"failed to parse card: $face\")\n",
    "            }\n",
    "        }\n",
    "    }\n",
    "}\n",
    "\n",
    "enum class Kind(count: Int) {\n",
    "    HighCard(1),\n",
    "    Pair(2),\n",
    "    TwoPair(3),\n",
    "    ThreeOfAKind(4),\n",
    "    FullHouse(5),\n",
    "    FourOfAKind(6),\n",
    "    FiveOfAKind(7);\n",
    "\n",
    "    companion object {\n",
    "        operator fun get(cards: List<Card>): Kind {\n",
    "            var checked = mutableMapOf<Card, Int>()\n",
    "            for (card in cards) {\n",
    "                if (checked.contains(card)) continue\n",
    "                checked[card] = cards.count({ it == card })\n",
    "            }\n",
    "\n",
    "            return when (checked.values.maxOrNull()) {\n",
    "                1 -> Kind.HighCard\n",
    "                2 -> if (checked.count { it.value == 2 } == 2) Kind.TwoPair else Kind.Pair\n",
    "                3 -> if (checked.containsValue(2)) Kind.FullHouse else Kind.ThreeOfAKind\n",
    "                4 -> Kind.FourOfAKind\n",
    "                5 -> Kind.FiveOfAKind\n",
    "                else -> throw Exception(\"couldnt parse card: $cards\")\n",
    "            }\n",
    "        }\n",
    "    }\n",
    "}"
   ],
   "metadata": {
    "collapsed": false,
    "ExecuteTime": {
     "end_time": "2023-12-07T22:37:03.081940085Z",
     "start_time": "2023-12-07T22:37:02.935325778Z"
    }
   }
  },
  {
   "cell_type": "code",
   "execution_count": 393,
   "outputs": [],
   "source": [
    "data class Hand(var kind: Kind, var cards: List<Card>, val bet: Int) : Comparable<Hand> {\n",
    "    override fun compareTo(other: Hand): Int {\n",
    "        if (this.kind != other.kind) {\n",
    "            val diff = this.kind.ordinal - other.kind.ordinal\n",
    "\n",
    "            if (diff == 0) throw Exception(\"encounterd invalid kind comparisons ${this.kind} - ${other.kind}\")\n",
    "\n",
    "            if (diff < 0) {\n",
    "                return -1\n",
    "            }\n",
    "\n",
    "            if (diff > 0) {\n",
    "                return 1\n",
    "            }\n",
    "        }\n",
    "\n",
    "        for (x in 0..<this.cards.size) {\n",
    "            if (this.cards[x].ordinal > other.cards[x].ordinal) {\n",
    "                return 1\n",
    "            }\n",
    "\n",
    "            if (this.cards[x].ordinal < other.cards[x].ordinal) {\n",
    "                return -1\n",
    "            }\n",
    "\n",
    "        }\n",
    "\n",
    "        throw Exception(\"failed comparisons ${this} - ${other}\")\n",
    "    }\n",
    "\n",
    "    fun replaceJokers() {\n",
    "        val jokerCount = this.cards.count { it == Card.Joker }\n",
    "        if (jokerCount == 0) return\n",
    "\n",
    "        val filtered = this.cards.filter { it != Card.Joker }\n",
    "        val counts = filtered\n",
    "            .distinct()\n",
    "            .map { it -> filtered.count({ it2 -> it2 == it }) }\n",
    "            .sortedDescending()\n",
    "       \n",
    "\n",
    "        if (jokerCount >= 4) {\n",
    "            this.kind = Kind.FiveOfAKind\n",
    "            return\n",
    "        }\n",
    "         \n",
    "        val maxCount = counts[0]\n",
    "\n",
    "        if (jokerCount == 3) {\n",
    "            if (maxCount == 2) {\n",
    "                this.kind = Kind.FiveOfAKind\n",
    "                return\n",
    "            }\n",
    "            this.kind = Kind.FourOfAKind\n",
    "            return\n",
    "        }\n",
    "\n",
    "\n",
    "        if (jokerCount == 2) {\n",
    "            if (maxCount == 3) {\n",
    "                this.kind = Kind.FiveOfAKind\n",
    "                return\n",
    "            }\n",
    "\n",
    "            if (maxCount == 2) {\n",
    "                this.kind = Kind.FourOfAKind\n",
    "                return\n",
    "            }\n",
    "\n",
    "            this.kind = Kind.ThreeOfAKind\n",
    "            return\n",
    "        }\n",
    "\n",
    "\n",
    "\n",
    "        if (maxCount == 4) {\n",
    "            this.kind = Kind.FiveOfAKind\n",
    "            return\n",
    "        }\n",
    "\n",
    "        if (maxCount == 3) {\n",
    "            this.kind = Kind.FourOfAKind\n",
    "            return\n",
    "        }\n",
    "\n",
    "        if (maxCount == 2) {\n",
    "            if (counts[1] == 2 ){\n",
    "                this.kind = Kind.FullHouse\n",
    "                return\n",
    "            }\n",
    "            \n",
    "            this.kind = Kind.ThreeOfAKind\n",
    "            return\n",
    "        }\n",
    "        \n",
    "        this.kind = Kind.Pair \n",
    "        return\n",
    "\n",
    "    }\n",
    "}\n",
    "\n",
    "val hands = input.map { it ->\n",
    "    val split = it.split(\" \")\n",
    "    Hand(\n",
    "        Kind[(split[0].map { it -> Card[it] })],\n",
    "        split[0].map { Card[it] },\n",
    "        split[1].toInt()\n",
    "    )\n",
    "}\n"
   ],
   "metadata": {
    "collapsed": false,
    "ExecuteTime": {
     "end_time": "2023-12-07T22:37:51.081449699Z",
     "start_time": "2023-12-07T22:37:50.858358346Z"
    }
   }
  },
  {
   "cell_type": "code",
   "execution_count": 394,
   "outputs": [
    {
     "data": {
      "text/plain": "251532274"
     },
     "execution_count": 394,
     "metadata": {},
     "output_type": "execute_result"
    }
   ],
   "source": [
    "hands.sorted().foldIndexed(0, { index, acc, it ->\n",
    "    acc + ((index+1) * it.bet)\n",
    "})"
   ],
   "metadata": {
    "collapsed": false,
    "ExecuteTime": {
     "end_time": "2023-12-07T22:37:54.707548839Z",
     "start_time": "2023-12-07T22:37:54.660199906Z"
    }
   }
  },
  {
   "cell_type": "code",
   "execution_count": 395,
   "outputs": [
    {
     "data": {
      "text/html": "            <iframe onload=\"o_resize_iframe_out_19()\" style=\"width:100%;\" class=\"result_container\" id=\"iframe_out_19\" frameBorder=\"0\" srcdoc=\"        &lt;html theme='dark'&gt;\n        &lt;head&gt;\n            &lt;style type=&quot;text&sol;css&quot;&gt;\n                :root {\n    --background: #fff;\n    --background-odd: #f5f5f5;\n    --background-hover: #d9edfd;\n    --header-text-color: #474747;\n    --text-color: #848484;\n    --text-color-dark: #000;\n    --text-color-medium: #737373;\n    --text-color-pale: #b3b3b3;\n    --inner-border-color: #aaa;\n    --bold-border-color: #000;\n    --link-color: #296eaa;\n    --link-color-pale: #296eaa;\n    --link-hover: #1a466c;\n}\n\n:root[theme=&quot;dark&quot;], :root [data-jp-theme-light=&quot;false&quot;], .dataframe_dark{\n    --background: #303030;\n    --background-odd: #3c3c3c;\n    --background-hover: #464646;\n    --header-text-color: #dddddd;\n    --text-color: #b3b3b3;\n    --text-color-dark: #dddddd;\n    --text-color-medium: #b2b2b2;\n    --text-color-pale: #737373;\n    --inner-border-color: #707070;\n    --bold-border-color: #777777;\n    --link-color: #008dc0;\n    --link-color-pale: #97e1fb;\n    --link-hover: #00688e;\n}\n\np.dataframe_description {\n    color: var(--text-color-dark);\n}\n\ntable.dataframe {\n    font-family: &quot;Helvetica Neue&quot;, Helvetica, Arial, sans-serif;\n    font-size: 12px;\n    background-color: var(--background);\n    color: var(--text-color-dark);\n    border: none;\n    border-collapse: collapse;\n}\n\ntable.dataframe th, td {\n    padding: 6px;\n    border: 1px solid transparent;\n    text-align: left;\n}\n\ntable.dataframe th {\n    background-color: var(--background);\n    color: var(--header-text-color);\n}\n\ntable.dataframe td {\n    vertical-align: top;\n}\n\ntable.dataframe th.bottomBorder {\n    border-bottom-color: var(--bold-border-color);\n}\n\ntable.dataframe tbody &gt; tr:nth-child(odd) {\n    background: var(--background-odd);\n}\n\ntable.dataframe tbody &gt; tr:nth-child(even) {\n    background: var(--background);\n}\n\ntable.dataframe tbody &gt; tr:hover {\n    background: var(--background-hover);\n}\n\ntable.dataframe a {\n    cursor: pointer;\n    color: var(--link-color);\n    text-decoration: none;\n}\n\ntable.dataframe tr:hover &gt; td a {\n    color: var(--link-color-pale);\n}\n\ntable.dataframe a:hover {\n    color: var(--link-hover);\n    text-decoration: underline;\n}\n\ntable.dataframe img {\n    max-width: fit-content;\n}\n\ntable.dataframe th.complex {\n    background-color: var(--background);\n    border: 1px solid var(--background);\n}\n\ntable.dataframe .leftBorder {\n    border-left-color: var(--inner-border-color);\n}\n\ntable.dataframe .rightBorder {\n    border-right-color: var(--inner-border-color);\n}\n\ntable.dataframe .rightAlign {\n    text-align: right;\n}\n\ntable.dataframe .expanderSvg {\n    width: 8px;\n    height: 8px;\n    margin-right: 3px;\n}\n\ntable.dataframe .expander {\n    display: flex;\n    align-items: center;\n}\n\n&sol;* formatting *&sol;\n\ntable.dataframe .null {\n    color: var(--text-color-pale);\n}\n\ntable.dataframe .structural {\n    color: var(--text-color-medium);\n    font-weight: bold;\n}\n\ntable.dataframe .dataFrameCaption {\n    font-weight: bold;\n}\n\ntable.dataframe .numbers {\n    color: var(--text-color-dark);\n}\n\ntable.dataframe td:hover .formatted .structural, .null {\n    color: var(--text-color-dark);\n}\n\ntable.dataframe tr:hover .formatted .structural, .null {\n    color: var(--text-color-dark);\n}\n\n\n\n\n:root {\n    --scroll-bg: #f5f5f5;\n    --scroll-fg: #b3b3b3;\n}\n:root[theme=&quot;dark&quot;], :root [data-jp-theme-light=&quot;false&quot;]{\n    --scroll-bg: #3c3c3c;\n    --scroll-fg: #97e1fb;\n}\nbody {\n    scrollbar-color: var(--scroll-fg) var(--scroll-bg);\n}\nbody::-webkit-scrollbar {\n    width: 10px; &sol;* Mostly for vertical scrollbars *&sol;\n    height: 10px; &sol;* Mostly for horizontal scrollbars *&sol;\n}\nbody::-webkit-scrollbar-thumb {\n    background-color: var(--scroll-fg);\n}\nbody::-webkit-scrollbar-track {\n    background-color: var(--scroll-bg);\n}\n            &lt;&sol;style&gt;\n        &lt;&sol;head&gt;\n        &lt;body&gt;\n            \n&lt;table class=&quot;dataframe&quot; id=&quot;df_-486539246&quot;&gt;&lt;&sol;table&gt;\n\n&lt;p class=&quot;dataframe_description&quot;&gt;... showing only top 20 of 1000 rows&lt;&sol;p&gt;&lt;p class=&quot;dataframe_description&quot;&gt;DataFrame: rowsCount = 1000, columnsCount = 3&lt;&sol;p&gt;\n\n        &lt;&sol;body&gt;\n        &lt;script&gt;\n            (function () {\n    window.DataFrame = window.DataFrame || new (function () {\n        this.addTable = function (df) {\n            let cols = df.cols;\n            for (let i = 0; i &lt; cols.length; i++) {\n                for (let c of cols[i].children) {\n                    cols[c].parent = i;\n                }\n            }\n            df.nrow = 0\n            for (let i = 0; i &lt; df.cols.length; i++) {\n                if (df.cols[i].values.length &gt; df.nrow) df.nrow = df.cols[i].values.length\n            }\n            if (df.id === df.rootId) {\n                df.expandedFrames = new Set()\n                df.childFrames = {}\n                const table = this.getTableElement(df.id)\n                table.df = df\n                for (let i = 0; i &lt; df.cols.length; i++) {\n                    let col = df.cols[i]\n                    if (col.parent === undefined &amp;&amp; col.children.length &gt; 0) col.expanded = true\n                }\n            } else {\n                const rootDf = this.getTableData(df.rootId)\n                rootDf.childFrames[df.id] = df\n            }\n        }\n\n        this.computeRenderData = function (df) {\n            let result = []\n            let pos = 0\n            for (let col = 0; col &lt; df.cols.length; col++) {\n                if (df.cols[col].parent === undefined)\n                    pos += this.computeRenderDataRec(df.cols, col, pos, 0, result, false, false)\n            }\n            for (let i = 0; i &lt; result.length; i++) {\n                let row = result[i]\n                for (let j = 0; j &lt; row.length; j++) {\n                    let cell = row[j]\n                    if (j === 0)\n                        cell.leftBd = false\n                    if (j &lt; row.length - 1) {\n                        let nextData = row[j + 1]\n                        if (nextData.leftBd) cell.rightBd = true\n                        else if (cell.rightBd) nextData.leftBd = true\n                    } else cell.rightBd = false\n                }\n            }\n            return result\n        }\n\n        this.computeRenderDataRec = function (cols, colId, pos, depth, result, leftBorder, rightBorder) {\n            if (result.length === depth) {\n                const array = [];\n                if (pos &gt; 0) {\n                    let j = 0\n                    for (let i = 0; j &lt; pos; i++) {\n                        let c = result[depth - 1][i]\n                        j += c.span\n                        let copy = Object.assign({empty: true}, c)\n                        array.push(copy)\n                    }\n                }\n                result.push(array)\n            }\n            const col = cols[colId];\n            let size = 0;\n            if (col.expanded) {\n                let childPos = pos\n                for (let i = 0; i &lt; col.children.length; i++) {\n                    let child = col.children[i]\n                    let childLeft = i === 0 &amp;&amp; (col.children.length &gt; 1 || leftBorder)\n                    let childRight = i === col.children.length - 1 &amp;&amp; (col.children.length &gt; 1 || rightBorder)\n                    let childSize = this.computeRenderDataRec(cols, child, childPos, depth + 1, result, childLeft, childRight)\n                    childPos += childSize\n                    size += childSize\n                }\n            } else {\n                for (let i = depth + 1; i &lt; result.length; i++)\n                    result[i].push({id: colId, span: 1, leftBd: leftBorder, rightBd: rightBorder, empty: true})\n                size = 1\n            }\n            let left = leftBorder\n            let right = rightBorder\n            if (size &gt; 1) {\n                left = true\n                right = true\n            }\n            result[depth].push({id: colId, span: size, leftBd: left, rightBd: right})\n            return size\n        }\n\n        this.getTableElement = function (id) {\n            return document.getElementById(&quot;df_&quot; + id)\n        }\n\n        this.getTableData = function (id) {\n            return this.getTableElement(id).df\n        }\n\n        this.createExpander = function (isExpanded) {\n            const svgNs = &quot;http:&sol;&sol;www.w3.org&sol;2000&sol;svg&quot;\n            let svg = document.createElementNS(svgNs, &quot;svg&quot;)\n            svg.classList.add(&quot;expanderSvg&quot;)\n            let path = document.createElementNS(svgNs, &quot;path&quot;)\n            if (isExpanded) {\n                svg.setAttribute(&quot;viewBox&quot;, &quot;0 -2 8 8&quot;)\n                path.setAttribute(&quot;d&quot;, &quot;M1 0 l-1 1 4 4 4 -4 -1 -1 -3 3Z&quot;)\n            } else {\n                svg.setAttribute(&quot;viewBox&quot;, &quot;-2 0 8 8&quot;)\n                path.setAttribute(&quot;d&quot;, &quot;M1 0 l-1 1 3 3 -3 3 1 1 4 -4Z&quot;)\n            }\n            path.setAttribute(&quot;fill&quot;, &quot;currentColor&quot;)\n            svg.appendChild(path)\n            return svg\n        }\n\n        this.renderTable = function (id) {\n\n            let table = this.getTableElement(id)\n\n            if (table === null) return\n\n            table.innerHTML = &quot;&quot;\n\n            let df = table.df\n            let rootDf = df.rootId === df.id ? df : this.getTableData(df.rootId)\n\n            &sol;&sol; header\n            let header = document.createElement(&quot;thead&quot;)\n            table.appendChild(header)\n\n            let renderData = this.computeRenderData(df)\n            for (let j = 0; j &lt; renderData.length; j++) {\n                let rowData = renderData[j]\n                let tr = document.createElement(&quot;tr&quot;);\n                let isLastRow = j === renderData.length - 1\n                header.appendChild(tr);\n                for (let i = 0; i &lt; rowData.length; i++) {\n                    let cell = rowData[i]\n                    let th = document.createElement(&quot;th&quot;);\n                    th.setAttribute(&quot;colspan&quot;, cell.span)\n                    let colId = cell.id\n                    let col = df.cols[colId];\n                    if (!cell.empty) {\n                        if (col.children.length === 0) {\n                            th.innerHTML = col.name\n                        } else {\n                            let link = document.createElement(&quot;a&quot;)\n                            link.className = &quot;expander&quot;\n                            let that = this\n                            link.onclick = function () {\n                                col.expanded = !col.expanded\n                                that.renderTable(id)\n                            }\n                            link.appendChild(this.createExpander(col.expanded))\n                            link.innerHTML += col.name\n                            th.appendChild(link)\n                        }\n                    }\n                    let classes = (cell.leftBd ? &quot; leftBorder&quot; : &quot;&quot;) + (cell.rightBd ? &quot; rightBorder&quot; : &quot;&quot;)\n                    if (col.rightAlign)\n                        classes += &quot; rightAlign&quot;\n                    if (isLastRow)\n                        classes += &quot; bottomBorder&quot;\n                    if (classes.length &gt; 0)\n                        th.setAttribute(&quot;class&quot;, classes)\n                    tr.appendChild(th)\n                }\n            }\n\n            &sol;&sol; body\n            let body = document.createElement(&quot;tbody&quot;)\n            table.appendChild(body)\n\n            let columns = renderData.pop()\n            for (let row = 0; row &lt; df.nrow; row++) {\n                let tr = document.createElement(&quot;tr&quot;);\n                body.appendChild(tr)\n                for (let i = 0; i &lt; columns.length; i++) {\n                    let cell = columns[i]\n                    let td = document.createElement(&quot;td&quot;);\n                    let colId = cell.id\n                    let col = df.cols[colId]\n                    let classes = (cell.leftBd ? &quot; leftBorder&quot; : &quot;&quot;) + (cell.rightBd ? &quot; rightBorder&quot; : &quot;&quot;)\n                    if (col.rightAlign)\n                        classes += &quot; rightAlign&quot;\n                    if (classes.length &gt; 0)\n                        td.setAttribute(&quot;class&quot;, classes)\n                    tr.appendChild(td)\n                    let value = col.values[row]\n                    if (value.frameId !== undefined) {\n                        let frameId = value.frameId\n                        let expanded = rootDf.expandedFrames.has(frameId)\n                        let link = document.createElement(&quot;a&quot;)\n                        link.className = &quot;expander&quot;\n                        let that = this\n                        link.onclick = function () {\n                            if (rootDf.expandedFrames.has(frameId))\n                                rootDf.expandedFrames.delete(frameId)\n                            else rootDf.expandedFrames.add(frameId)\n                            that.renderTable(id)\n                        }\n                        link.appendChild(this.createExpander(expanded))\n                        link.innerHTML += value.value\n                        if (expanded) {\n                            td.appendChild(link)\n                            td.appendChild(document.createElement(&quot;p&quot;))\n                            const childTable = document.createElement(&quot;table&quot;)\n                            childTable.className = &quot;dataframe&quot;\n                            childTable.id = &quot;df_&quot; + frameId\n                            let childDf = rootDf.childFrames[frameId]\n                            childTable.df = childDf\n                            td.appendChild(childTable)\n                            this.renderTable(frameId)\n                            if (childDf.nrow !== childDf.totalRows) {\n                                const footer = document.createElement(&quot;p&quot;)\n                                footer.innerText = `... showing only top ${childDf.nrow} of ${childDf.totalRows} rows`\n                                td.appendChild(footer)\n                            }\n                        } else {\n                            td.appendChild(link)\n                        }\n                    } else if (value.style !== undefined) {\n                        td.innerHTML = value.value\n                        td.setAttribute(&quot;style&quot;, value.style)\n                    } else td.innerHTML = value\n                    this.nodeScriptReplace(td)\n                }\n            }\n        }\n\n        this.nodeScriptReplace = function (node) {\n            if (this.nodeScriptIs(node) === true) {\n                node.parentNode.replaceChild(this.nodeScriptClone(node), node);\n            } else {\n                let i = -1, children = node.childNodes;\n                while (++i &lt; children.length) {\n                    this.nodeScriptReplace(children[i]);\n                }\n            }\n\n            return node;\n        }\n\n        this.nodeScriptClone = function (node) {\n            let script = document.createElement(&quot;script&quot;);\n            script.text = node.innerHTML;\n\n            let i = -1, attrs = node.attributes, attr;\n            while (++i &lt; attrs.length) {\n                script.setAttribute((attr = attrs[i]).name, attr.value);\n            }\n            return script;\n        }\n\n        this.nodeScriptIs = function (node) {\n            return node.tagName === 'SCRIPT';\n        }\n    })()\n\n    window.call_DataFrame = function (f) {\n        return f();\n    };\n\n    let funQueue = window[&quot;kotlinQueues&quot;] &amp;&amp; window[&quot;kotlinQueues&quot;][&quot;DataFrame&quot;];\n    if (funQueue) {\n        funQueue.forEach(function (f) {\n            f();\n        });\n        funQueue = [];\n    }\n})()\n\n&sol;*&lt;!--*&sol;\ncall_DataFrame(function() { DataFrame.addTable({ cols: [{ name: &quot;&lt;span title=&bsol;&quot;kind: Line_392_jupyter.Kind&bsol;&quot;&gt;kind&lt;&sol;span&gt;&quot;, children: [], rightAlign: false, values: [&quot;HighCard&quot;,&quot;HighCard&quot;,&quot;HighCard&quot;,&quot;HighCard&quot;,&quot;HighCard&quot;,&quot;HighCard&quot;,&quot;HighCard&quot;,&quot;HighCard&quot;,&quot;HighCard&quot;,&quot;HighCard&quot;,&quot;HighCard&quot;,&quot;HighCard&quot;,&quot;HighCard&quot;,&quot;HighCard&quot;,&quot;HighCard&quot;,&quot;HighCard&quot;,&quot;HighCard&quot;,&quot;HighCard&quot;,&quot;HighCard&quot;,&quot;HighCard&quot;] }, \n{ name: &quot;&lt;span title=&bsol;&quot;cards: List&lt;Line_392_jupyter.Card&gt;&bsol;&quot;&gt;cards&lt;&sol;span&gt;&quot;, children: [], rightAlign: false, values: [&quot;&lt;span class=&bsol;&quot;formatted&bsol;&quot; title=&bsol;&quot;Two&bsol;nFour&bsol;nKing&bsol;nThree&bsol;nAce&bsol;&quot;&gt;&lt;span class=&bsol;&quot;structural&bsol;&quot;&gt;[&lt;&sol;span&gt;Two&lt;span class=&bsol;&quot;structural&bsol;&quot;&gt;, &lt;&sol;span&gt;Four&lt;span class=&bsol;&quot;structural&bsol;&quot;&gt;, &lt;&sol;span&gt;King&lt;span class=&bsol;&quot;structural&bsol;&quot;&gt;, &lt;&sol;span&gt;Three&lt;span class=&bsol;&quot;structural&bsol;&quot;&gt;, &lt;&sol;span&gt;Ace&lt;span class=&bsol;&quot;structural&bsol;&quot;&gt;]&lt;&sol;span&gt;&lt;&sol;span&gt;&quot;,&quot;&lt;span class=&bsol;&quot;formatted&bsol;&quot; title=&bsol;&quot;Two&bsol;nFive&bsol;nQueen&bsol;nAce&bsol;nSeven&bsol;&quot;&gt;&lt;span class=&bsol;&quot;structural&bsol;&quot;&gt;[&lt;&sol;span&gt;Two&lt;span class=&bsol;&quot;structural&bsol;&quot;&gt;, &lt;&sol;span&gt;Five&lt;span class=&bsol;&quot;structural&bsol;&quot;&gt;, &lt;&sol;span&gt;Queen&lt;span class=&bsol;&quot;structural&bsol;&quot;&gt;, &lt;&sol;span&gt;Ace&lt;span class=&bsol;&quot;structural&bsol;&quot;&gt;, &lt;&sol;span&gt;Seven&lt;span class=&bsol;&quot;structural&bsol;&quot;&gt;]&lt;&sol;span&gt;&lt;&sol;span&gt;&quot;,&quot;&lt;span class=&bsol;&quot;formatted&bsol;&quot; title=&bsol;&quot;Two&bsol;nSix&bsol;nTen&bsol;nNine&bsol;nSeven&bsol;&quot;&gt;&lt;span class=&bsol;&quot;structural&bsol;&quot;&gt;[&lt;&sol;span&gt;Two&lt;span class=&bsol;&quot;structural&bsol;&quot;&gt;, &lt;&sol;span&gt;Six&lt;span class=&bsol;&quot;structural&bsol;&quot;&gt;, &lt;&sol;span&gt;Ten&lt;span class=&bsol;&quot;structural&bsol;&quot;&gt;, &lt;&sol;span&gt;Nine&lt;span class=&bsol;&quot;structural&bsol;&quot;&gt;, &lt;&sol;span&gt;Seven&lt;span class=&bsol;&quot;structural&bsol;&quot;&gt;]&lt;&sol;span&gt;&lt;&sol;span&gt;&quot;,&quot;&lt;span class=&bsol;&quot;formatted&bsol;&quot; title=&bsol;&quot;Two&bsol;nSeven&bsol;nSix&bsol;nFour&bsol;nEight&bsol;&quot;&gt;&lt;span class=&bsol;&quot;structural&bsol;&quot;&gt;[&lt;&sol;span&gt;Two&lt;span class=&bsol;&quot;structural&bsol;&quot;&gt;, &lt;&sol;span&gt;Seven&lt;span class=&bsol;&quot;structural&bsol;&quot;&gt;, &lt;&sol;span&gt;Six&lt;span class=&bsol;&quot;structural&bsol;&quot;&gt;, &lt;&sol;span&gt;Four&lt;span class=&bsol;&quot;structural&bsol;&quot;&gt;, &lt;&sol;span&gt;Eight&lt;span class=&bsol;&quot;structural&bsol;&quot;&gt;]&lt;&sol;span&gt;&lt;&sol;span&gt;&quot;,&quot;&lt;span class=&bsol;&quot;formatted&bsol;&quot; title=&bsol;&quot;Two&bsol;nEight&bsol;nAce&bsol;nFour&bsol;nQueen&bsol;&quot;&gt;&lt;span class=&bsol;&quot;structural&bsol;&quot;&gt;[&lt;&sol;span&gt;Two&lt;span class=&bsol;&quot;structural&bsol;&quot;&gt;, &lt;&sol;span&gt;Eight&lt;span class=&bsol;&quot;structural&bsol;&quot;&gt;, &lt;&sol;span&gt;Ace&lt;span class=&bsol;&quot;structural&bsol;&quot;&gt;, &lt;&sol;span&gt;Four&lt;span class=&bsol;&quot;structural&bsol;&quot;&gt;, &lt;&sol;span&gt;Queen&lt;span class=&bsol;&quot;structural&bsol;&quot;&gt;]&lt;&sol;span&gt;&lt;&sol;span&gt;&quot;,&quot;&lt;span class=&bsol;&quot;formatted&bsol;&quot; title=&bsol;&quot;Two&bsol;nEight&bsol;nAce&bsol;nSix&bsol;nTen&bsol;&quot;&gt;&lt;span class=&bsol;&quot;structural&bsol;&quot;&gt;[&lt;&sol;span&gt;Two&lt;span class=&bsol;&quot;structural&bsol;&quot;&gt;, &lt;&sol;span&gt;Eight&lt;span class=&bsol;&quot;structural&bsol;&quot;&gt;, &lt;&sol;span&gt;Ace&lt;span class=&bsol;&quot;structural&bsol;&quot;&gt;, &lt;&sol;span&gt;Six&lt;span class=&bsol;&quot;structural&bsol;&quot;&gt;, &lt;&sol;span&gt;Ten&lt;span class=&bsol;&quot;structural&bsol;&quot;&gt;]&lt;&sol;span&gt;&lt;&sol;span&gt;&quot;,&quot;&lt;span class=&bsol;&quot;formatted&bsol;&quot; title=&bsol;&quot;Two&bsol;nNine&bsol;nSix&bsol;nFive&bsol;nTen&bsol;&quot;&gt;&lt;span class=&bsol;&quot;structural&bsol;&quot;&gt;[&lt;&sol;span&gt;Two&lt;span class=&bsol;&quot;structural&bsol;&quot;&gt;, &lt;&sol;span&gt;Nine&lt;span class=&bsol;&quot;structural&bsol;&quot;&gt;, &lt;&sol;span&gt;Six&lt;span class=&bsol;&quot;structural&bsol;&quot;&gt;, &lt;&sol;span&gt;Five&lt;span class=&bsol;&quot;structural&bsol;&quot;&gt;, &lt;&sol;span&gt;Ten&lt;span class=&bsol;&quot;structural&bsol;&quot;&gt;]&lt;&sol;span&gt;&lt;&sol;span&gt;&quot;,&quot;&lt;span class=&bsol;&quot;formatted&bsol;&quot; title=&bsol;&quot;Two&bsol;nTen&bsol;nThree&bsol;nSeven&bsol;nFive&bsol;&quot;&gt;&lt;span class=&bsol;&quot;structural&bsol;&quot;&gt;[&lt;&sol;span&gt;Two&lt;span class=&bsol;&quot;structural&bsol;&quot;&gt;, &lt;&sol;span&gt;Ten&lt;span class=&bsol;&quot;structural&bsol;&quot;&gt;, &lt;&sol;span&gt;Three&lt;span class=&bsol;&quot;structural&bsol;&quot;&gt;, &lt;&sol;span&gt;Seven&lt;span class=&bsol;&quot;structural&bsol;&quot;&gt;, &lt;&sol;span&gt;Five&lt;span class=&bsol;&quot;structural&bsol;&quot;&gt;]&lt;&sol;span&gt;&lt;&sol;span&gt;&quot;,&quot;&lt;span class=&bsol;&quot;formatted&bsol;&quot; title=&bsol;&quot;Two&bsol;nKing&bsol;nSix&bsol;nThree&bsol;nSeven&bsol;&quot;&gt;&lt;span class=&bsol;&quot;structural&bsol;&quot;&gt;[&lt;&sol;span&gt;Two&lt;span class=&bsol;&quot;structural&bsol;&quot;&gt;, &lt;&sol;span&gt;King&lt;span class=&bsol;&quot;structural&bsol;&quot;&gt;, &lt;&sol;span&gt;Six&lt;span class=&bsol;&quot;structural&bsol;&quot;&gt;, &lt;&sol;span&gt;Three&lt;span class=&bsol;&quot;structural&bsol;&quot;&gt;, &lt;&sol;span&gt;Seven&lt;span class=&bsol;&quot;structural&bsol;&quot;&gt;]&lt;&sol;span&gt;&lt;&sol;span&gt;&quot;,&quot;&lt;span class=&bsol;&quot;formatted&bsol;&quot; title=&bsol;&quot;Three&bsol;nTwo&bsol;nSix&bsol;nAce&bsol;nSeven&bsol;&quot;&gt;&lt;span class=&bsol;&quot;structural&bsol;&quot;&gt;[&lt;&sol;span&gt;Three&lt;span class=&bsol;&quot;structural&bsol;&quot;&gt;, &lt;&sol;span&gt;Two&lt;span class=&bsol;&quot;structural&bsol;&quot;&gt;, &lt;&sol;span&gt;Six&lt;span class=&bsol;&quot;structural&bsol;&quot;&gt;, &lt;&sol;span&gt;Ace&lt;span class=&bsol;&quot;structural&bsol;&quot;&gt;, &lt;&sol;span&gt;Seven&lt;span class=&bsol;&quot;structural&bsol;&quot;&gt;]&lt;&sol;span&gt;&lt;&sol;span&gt;&quot;,&quot;&lt;span class=&bsol;&quot;formatted&bsol;&quot; title=&bsol;&quot;Three&bsol;nTwo&bsol;nEight&bsol;nFour&bsol;nFive&bsol;&quot;&gt;&lt;span class=&bsol;&quot;structural&bsol;&quot;&gt;[&lt;&sol;span&gt;Three&lt;span class=&bsol;&quot;structural&bsol;&quot;&gt;, &lt;&sol;span&gt;Two&lt;span class=&bsol;&quot;structural&bsol;&quot;&gt;, &lt;&sol;span&gt;Eight&lt;span class=&bsol;&quot;structural&bsol;&quot;&gt;, &lt;&sol;span&gt;Four&lt;span class=&bsol;&quot;structural&bsol;&quot;&gt;, &lt;&sol;span&gt;Five&lt;span class=&bsol;&quot;structural&bsol;&quot;&gt;]&lt;&sol;span&gt;&lt;&sol;span&gt;&quot;,&quot;&lt;span class=&bsol;&quot;formatted&bsol;&quot; title=&bsol;&quot;Three&bsol;nTwo&bsol;nTen&bsol;nKing&bsol;nSeven&bsol;&quot;&gt;&lt;span class=&bsol;&quot;structural&bsol;&quot;&gt;[&lt;&sol;span&gt;Three&lt;span class=&bsol;&quot;structural&bsol;&quot;&gt;, &lt;&sol;span&gt;Two&lt;span class=&bsol;&quot;structural&bsol;&quot;&gt;, &lt;&sol;span&gt;Ten&lt;span class=&bsol;&quot;structural&bsol;&quot;&gt;, &lt;&sol;span&gt;King&lt;span class=&bsol;&quot;structural&bsol;&quot;&gt;, &lt;&sol;span&gt;Seven&lt;span class=&bsol;&quot;structural&bsol;&quot;&gt;]&lt;&sol;span&gt;&lt;&sol;span&gt;&quot;,&quot;&lt;span class=&bsol;&quot;formatted&bsol;&quot; title=&bsol;&quot;Three&bsol;nFour&bsol;nKing&bsol;nEight&bsol;nAce&bsol;&quot;&gt;&lt;span class=&bsol;&quot;structural&bsol;&quot;&gt;[&lt;&sol;span&gt;Three&lt;span class=&bsol;&quot;structural&bsol;&quot;&gt;, &lt;&sol;span&gt;Four&lt;span class=&bsol;&quot;structural&bsol;&quot;&gt;, &lt;&sol;span&gt;King&lt;span class=&bsol;&quot;structural&bsol;&quot;&gt;, &lt;&sol;span&gt;Eight&lt;span class=&bsol;&quot;structural&bsol;&quot;&gt;, &lt;&sol;span&gt;Ace&lt;span class=&bsol;&quot;structural&bsol;&quot;&gt;]&lt;&sol;span&gt;&lt;&sol;span&gt;&quot;,&quot;&lt;span class=&bsol;&quot;formatted&bsol;&quot; title=&bsol;&quot;Three&bsol;nSeven&bsol;nFour&bsol;nTwo&bsol;nTen&bsol;&quot;&gt;&lt;span class=&bsol;&quot;structural&bsol;&quot;&gt;[&lt;&sol;span&gt;Three&lt;span class=&bsol;&quot;structural&bsol;&quot;&gt;, &lt;&sol;span&gt;Seven&lt;span class=&bsol;&quot;structural&bsol;&quot;&gt;, &lt;&sol;span&gt;Four&lt;span class=&bsol;&quot;structural&bsol;&quot;&gt;, &lt;&sol;span&gt;Two&lt;span class=&bsol;&quot;structural&bsol;&quot;&gt;, &lt;&sol;span&gt;Ten&lt;span class=&bsol;&quot;structural&bsol;&quot;&gt;]&lt;&sol;span&gt;&lt;&sol;span&gt;&quot;,&quot;&lt;span class=&bsol;&quot;formatted&bsol;&quot; title=&bsol;&quot;Three&bsol;nSeven&bsol;nFour&bsol;nQueen&bsol;nKing&bsol;&quot;&gt;&lt;span class=&bsol;&quot;structural&bsol;&quot;&gt;[&lt;&sol;span&gt;Three&lt;span class=&bsol;&quot;structural&bsol;&quot;&gt;, &lt;&sol;span&gt;Seven&lt;span class=&bsol;&quot;structural&bsol;&quot;&gt;, &lt;&sol;span&gt;Four&lt;span class=&bsol;&quot;structural&bsol;&quot;&gt;, &lt;&sol;span&gt;Queen&lt;span class=&bsol;&quot;structural&bsol;&quot;&gt;, &lt;&sol;span&gt;King&lt;span class=&bsol;&quot;structural&bsol;&quot;&gt;]&lt;&sol;span&gt;&lt;&sol;span&gt;&quot;,&quot;&lt;span class=&bsol;&quot;formatted&bsol;&quot; title=&bsol;&quot;Three&bsol;nTen&bsol;nSeven&bsol;nNine&bsol;nTwo&bsol;&quot;&gt;&lt;span class=&bsol;&quot;structural&bsol;&quot;&gt;[&lt;&sol;span&gt;Three&lt;span class=&bsol;&quot;structural&bsol;&quot;&gt;, &lt;&sol;span&gt;Ten&lt;span class=&bsol;&quot;structural&bsol;&quot;&gt;, &lt;&sol;span&gt;Seven&lt;span class=&bsol;&quot;structural&bsol;&quot;&gt;, &lt;&sol;span&gt;Nine&lt;span class=&bsol;&quot;structural&bsol;&quot;&gt;, &lt;&sol;span&gt;Two&lt;span class=&bsol;&quot;structural&bsol;&quot;&gt;]&lt;&sol;span&gt;&lt;&sol;span&gt;&quot;,&quot;&lt;span class=&bsol;&quot;formatted&bsol;&quot; title=&bsol;&quot;Three&bsol;nAce&bsol;nFive&bsol;nSeven&bsol;nKing&bsol;&quot;&gt;&lt;span class=&bsol;&quot;structural&bsol;&quot;&gt;[&lt;&sol;span&gt;Three&lt;span class=&bsol;&quot;structural&bsol;&quot;&gt;, &lt;&sol;span&gt;Ace&lt;span class=&bsol;&quot;structural&bsol;&quot;&gt;, &lt;&sol;span&gt;Five&lt;span class=&bsol;&quot;structural&bsol;&quot;&gt;, &lt;&sol;span&gt;Seven&lt;span class=&bsol;&quot;structural&bsol;&quot;&gt;, &lt;&sol;span&gt;King&lt;span class=&bsol;&quot;structural&bsol;&quot;&gt;]&lt;&sol;span&gt;&lt;&sol;span&gt;&quot;,&quot;&lt;span class=&bsol;&quot;formatted&bsol;&quot; title=&bsol;&quot;Four&bsol;nSeven&bsol;nAce&bsol;nKing&bsol;nSix&bsol;&quot;&gt;&lt;span class=&bsol;&quot;structural&bsol;&quot;&gt;[&lt;&sol;span&gt;Four&lt;span class=&bsol;&quot;structural&bsol;&quot;&gt;, &lt;&sol;span&gt;Seven&lt;span class=&bsol;&quot;structural&bsol;&quot;&gt;, &lt;&sol;span&gt;Ace&lt;span class=&bsol;&quot;structural&bsol;&quot;&gt;, &lt;&sol;span&gt;King&lt;span class=&bsol;&quot;structural&bsol;&quot;&gt;, &lt;&sol;span&gt;Six&lt;span class=&bsol;&quot;structural&bsol;&quot;&gt;]&lt;&sol;span&gt;&lt;&sol;span&gt;&quot;,&quot;&lt;span class=&bsol;&quot;formatted&bsol;&quot; title=&bsol;&quot;Four&bsol;nSeven&bsol;nAce&bsol;nKing&bsol;nNine&bsol;&quot;&gt;&lt;span class=&bsol;&quot;structural&bsol;&quot;&gt;[&lt;&sol;span&gt;Four&lt;span class=&bsol;&quot;structural&bsol;&quot;&gt;, &lt;&sol;span&gt;Seven&lt;span class=&bsol;&quot;structural&bsol;&quot;&gt;, &lt;&sol;span&gt;Ace&lt;span class=&bsol;&quot;structural&bsol;&quot;&gt;, &lt;&sol;span&gt;King&lt;span class=&bsol;&quot;structural&bsol;&quot;&gt;, &lt;&sol;span&gt;Nine&lt;span class=&bsol;&quot;structural&bsol;&quot;&gt;]&lt;&sol;span&gt;&lt;&sol;span&gt;&quot;,&quot;&lt;span class=&bsol;&quot;formatted&bsol;&quot; title=&bsol;&quot;Four&bsol;nEight&bsol;nTwo&bsol;nSeven&bsol;nTen&bsol;&quot;&gt;&lt;span class=&bsol;&quot;structural&bsol;&quot;&gt;[&lt;&sol;span&gt;Four&lt;span class=&bsol;&quot;structural&bsol;&quot;&gt;, &lt;&sol;span&gt;Eight&lt;span class=&bsol;&quot;structural&bsol;&quot;&gt;, &lt;&sol;span&gt;Two&lt;span class=&bsol;&quot;structural&bsol;&quot;&gt;, &lt;&sol;span&gt;Seven&lt;span class=&bsol;&quot;structural&bsol;&quot;&gt;, &lt;&sol;span&gt;Ten&lt;span class=&bsol;&quot;structural&bsol;&quot;&gt;]&lt;&sol;span&gt;&lt;&sol;span&gt;&quot;] }, \n{ name: &quot;&lt;span title=&bsol;&quot;bet: Int&bsol;&quot;&gt;bet&lt;&sol;span&gt;&quot;, children: [], rightAlign: true, values: [&quot;&lt;span class=&bsol;&quot;formatted&bsol;&quot; title=&bsol;&quot;&bsol;&quot;&gt;&lt;span class=&bsol;&quot;numbers&bsol;&quot;&gt;186&lt;&sol;span&gt;&lt;&sol;span&gt;&quot;,&quot;&lt;span class=&bsol;&quot;formatted&bsol;&quot; title=&bsol;&quot;&bsol;&quot;&gt;&lt;span class=&bsol;&quot;numbers&bsol;&quot;&gt;602&lt;&sol;span&gt;&lt;&sol;span&gt;&quot;,&quot;&lt;span class=&bsol;&quot;formatted&bsol;&quot; title=&bsol;&quot;&bsol;&quot;&gt;&lt;span class=&bsol;&quot;numbers&bsol;&quot;&gt;36&lt;&sol;span&gt;&lt;&sol;span&gt;&quot;,&quot;&lt;span class=&bsol;&quot;formatted&bsol;&quot; title=&bsol;&quot;&bsol;&quot;&gt;&lt;span class=&bsol;&quot;numbers&bsol;&quot;&gt;18&lt;&sol;span&gt;&lt;&sol;span&gt;&quot;,&quot;&lt;span class=&bsol;&quot;formatted&bsol;&quot; title=&bsol;&quot;&bsol;&quot;&gt;&lt;span class=&bsol;&quot;numbers&bsol;&quot;&gt;714&lt;&sol;span&gt;&lt;&sol;span&gt;&quot;,&quot;&lt;span class=&bsol;&quot;formatted&bsol;&quot; title=&bsol;&quot;&bsol;&quot;&gt;&lt;span class=&bsol;&quot;numbers&bsol;&quot;&gt;887&lt;&sol;span&gt;&lt;&sol;span&gt;&quot;,&quot;&lt;span class=&bsol;&quot;formatted&bsol;&quot; title=&bsol;&quot;&bsol;&quot;&gt;&lt;span class=&bsol;&quot;numbers&bsol;&quot;&gt;872&lt;&sol;span&gt;&lt;&sol;span&gt;&quot;,&quot;&lt;span class=&bsol;&quot;formatted&bsol;&quot; title=&bsol;&quot;&bsol;&quot;&gt;&lt;span class=&bsol;&quot;numbers&bsol;&quot;&gt;903&lt;&sol;span&gt;&lt;&sol;span&gt;&quot;,&quot;&lt;span class=&bsol;&quot;formatted&bsol;&quot; title=&bsol;&quot;&bsol;&quot;&gt;&lt;span class=&bsol;&quot;numbers&bsol;&quot;&gt;46&lt;&sol;span&gt;&lt;&sol;span&gt;&quot;,&quot;&lt;span class=&bsol;&quot;formatted&bsol;&quot; title=&bsol;&quot;&bsol;&quot;&gt;&lt;span class=&bsol;&quot;numbers&bsol;&quot;&gt;546&lt;&sol;span&gt;&lt;&sol;span&gt;&quot;,&quot;&lt;span class=&bsol;&quot;formatted&bsol;&quot; title=&bsol;&quot;&bsol;&quot;&gt;&lt;span class=&bsol;&quot;numbers&bsol;&quot;&gt;457&lt;&sol;span&gt;&lt;&sol;span&gt;&quot;,&quot;&lt;span class=&bsol;&quot;formatted&bsol;&quot; title=&bsol;&quot;&bsol;&quot;&gt;&lt;span class=&bsol;&quot;numbers&bsol;&quot;&gt;253&lt;&sol;span&gt;&lt;&sol;span&gt;&quot;,&quot;&lt;span class=&bsol;&quot;formatted&bsol;&quot; title=&bsol;&quot;&bsol;&quot;&gt;&lt;span class=&bsol;&quot;numbers&bsol;&quot;&gt;748&lt;&sol;span&gt;&lt;&sol;span&gt;&quot;,&quot;&lt;span class=&bsol;&quot;formatted&bsol;&quot; title=&bsol;&quot;&bsol;&quot;&gt;&lt;span class=&bsol;&quot;numbers&bsol;&quot;&gt;660&lt;&sol;span&gt;&lt;&sol;span&gt;&quot;,&quot;&lt;span class=&bsol;&quot;formatted&bsol;&quot; title=&bsol;&quot;&bsol;&quot;&gt;&lt;span class=&bsol;&quot;numbers&bsol;&quot;&gt;918&lt;&sol;span&gt;&lt;&sol;span&gt;&quot;,&quot;&lt;span class=&bsol;&quot;formatted&bsol;&quot; title=&bsol;&quot;&bsol;&quot;&gt;&lt;span class=&bsol;&quot;numbers&bsol;&quot;&gt;79&lt;&sol;span&gt;&lt;&sol;span&gt;&quot;,&quot;&lt;span class=&bsol;&quot;formatted&bsol;&quot; title=&bsol;&quot;&bsol;&quot;&gt;&lt;span class=&bsol;&quot;numbers&bsol;&quot;&gt;686&lt;&sol;span&gt;&lt;&sol;span&gt;&quot;,&quot;&lt;span class=&bsol;&quot;formatted&bsol;&quot; title=&bsol;&quot;&bsol;&quot;&gt;&lt;span class=&bsol;&quot;numbers&bsol;&quot;&gt;811&lt;&sol;span&gt;&lt;&sol;span&gt;&quot;,&quot;&lt;span class=&bsol;&quot;formatted&bsol;&quot; title=&bsol;&quot;&bsol;&quot;&gt;&lt;span class=&bsol;&quot;numbers&bsol;&quot;&gt;683&lt;&sol;span&gt;&lt;&sol;span&gt;&quot;,&quot;&lt;span class=&bsol;&quot;formatted&bsol;&quot; title=&bsol;&quot;&bsol;&quot;&gt;&lt;span class=&bsol;&quot;numbers&bsol;&quot;&gt;133&lt;&sol;span&gt;&lt;&sol;span&gt;&quot;] }, \n], id: -486539246, rootId: -486539246, totalRows: 1000 } ) });\n&sol;*--&gt;*&sol;\n\ncall_DataFrame(function() { DataFrame.renderTable(-486539246) });\n\n\n\n        &lt;&sol;script&gt;\n        &lt;&sol;html&gt;\"></iframe>\n            <script>\n                function o_resize_iframe_out_19() {\n                    let elem = document.getElementById(\"iframe_out_19\");\n                    resize_iframe_out_19(elem);\n                    setInterval(resize_iframe_out_19, 5000, elem);\n                }\n                function resize_iframe_out_19(el) {\n                    let h = el.contentWindow.document.body.scrollHeight;\n                    el.height = h === 0 ? 0 : h + 41;\n                }\n            </script>",
      "application/kotlindataframe+json": "{\"nrow\":1000,\"ncol\":3,\"columns\":[\"kind\",\"cards\",\"bet\"],\"kotlin_dataframe\":[{\"kind\":\"HighCard\",\"cards\":[\"Two\",\"Four\",\"King\",\"Three\",\"Ace\"],\"bet\":186},{\"kind\":\"HighCard\",\"cards\":[\"Two\",\"Five\",\"Queen\",\"Ace\",\"Seven\"],\"bet\":602},{\"kind\":\"HighCard\",\"cards\":[\"Two\",\"Six\",\"Ten\",\"Nine\",\"Seven\"],\"bet\":36},{\"kind\":\"HighCard\",\"cards\":[\"Two\",\"Seven\",\"Six\",\"Four\",\"Eight\"],\"bet\":18},{\"kind\":\"HighCard\",\"cards\":[\"Two\",\"Eight\",\"Ace\",\"Four\",\"Queen\"],\"bet\":714},{\"kind\":\"HighCard\",\"cards\":[\"Two\",\"Eight\",\"Ace\",\"Six\",\"Ten\"],\"bet\":887},{\"kind\":\"HighCard\",\"cards\":[\"Two\",\"Nine\",\"Six\",\"Five\",\"Ten\"],\"bet\":872},{\"kind\":\"HighCard\",\"cards\":[\"Two\",\"Ten\",\"Three\",\"Seven\",\"Five\"],\"bet\":903},{\"kind\":\"HighCard\",\"cards\":[\"Two\",\"King\",\"Six\",\"Three\",\"Seven\"],\"bet\":46},{\"kind\":\"HighCard\",\"cards\":[\"Three\",\"Two\",\"Six\",\"Ace\",\"Seven\"],\"bet\":546},{\"kind\":\"HighCard\",\"cards\":[\"Three\",\"Two\",\"Eight\",\"Four\",\"Five\"],\"bet\":457},{\"kind\":\"HighCard\",\"cards\":[\"Three\",\"Two\",\"Ten\",\"King\",\"Seven\"],\"bet\":253},{\"kind\":\"HighCard\",\"cards\":[\"Three\",\"Four\",\"King\",\"Eight\",\"Ace\"],\"bet\":748},{\"kind\":\"HighCard\",\"cards\":[\"Three\",\"Seven\",\"Four\",\"Two\",\"Ten\"],\"bet\":660},{\"kind\":\"HighCard\",\"cards\":[\"Three\",\"Seven\",\"Four\",\"Queen\",\"King\"],\"bet\":918},{\"kind\":\"HighCard\",\"cards\":[\"Three\",\"Ten\",\"Seven\",\"Nine\",\"Two\"],\"bet\":79},{\"kind\":\"HighCard\",\"cards\":[\"Three\",\"Ace\",\"Five\",\"Seven\",\"King\"],\"bet\":686},{\"kind\":\"HighCard\",\"cards\":[\"Four\",\"Seven\",\"Ace\",\"King\",\"Six\"],\"bet\":811},{\"kind\":\"HighCard\",\"cards\":[\"Four\",\"Seven\",\"Ace\",\"King\",\"Nine\"],\"bet\":683},{\"kind\":\"HighCard\",\"cards\":[\"Four\",\"Eight\",\"Two\",\"Seven\",\"Ten\"],\"bet\":133}]}"
     },
     "execution_count": 395,
     "metadata": {},
     "output_type": "execute_result"
    }
   ],
   "source": [
    "hands.forEach({it -> it.replaceJokers()})\n",
    "hands.sorted().toDataFrame()"
   ],
   "metadata": {
    "collapsed": false,
    "ExecuteTime": {
     "end_time": "2023-12-07T22:37:57.531028924Z",
     "start_time": "2023-12-07T22:37:57.464117845Z"
    }
   }
  },
  {
   "cell_type": "code",
   "execution_count": 396,
   "outputs": [
    {
     "data": {
      "text/plain": "252113488"
     },
     "execution_count": 396,
     "metadata": {},
     "output_type": "execute_result"
    }
   ],
   "source": [
    "hands.sorted().foldIndexed(0, { index, acc, it ->\n",
    "    acc + ((index+1) * it.bet)\n",
    "})"
   ],
   "metadata": {
    "collapsed": false,
    "ExecuteTime": {
     "end_time": "2023-12-07T22:38:05.650803041Z",
     "start_time": "2023-12-07T22:38:05.608994530Z"
    }
   }
  },
  {
   "cell_type": "code",
   "execution_count": 367,
   "outputs": [],
   "source": [],
   "metadata": {
    "collapsed": false,
    "ExecuteTime": {
     "end_time": "2023-12-07T22:29:28.368356669Z",
     "start_time": "2023-12-07T22:29:28.366222710Z"
    }
   }
  }
 ],
 "metadata": {
  "kernelspec": {
   "display_name": "Kotlin",
   "language": "kotlin",
   "name": "kotlin"
  },
  "language_info": {
   "name": "kotlin",
   "version": "1.9.0",
   "mimetype": "text/x-kotlin",
   "file_extension": ".kt",
   "pygments_lexer": "kotlin",
   "codemirror_mode": "text/x-kotlin",
   "nbconvert_exporter": ""
  }
 },
 "nbformat": 4,
 "nbformat_minor": 0
}
